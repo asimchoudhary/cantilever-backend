{
 "cells": [
  {
   "cell_type": "code",
   "execution_count": 19,
   "id": "7842ba87",
   "metadata": {},
   "outputs": [
    {
     "data": {
      "text/plain": [
       "True"
      ]
     },
     "execution_count": 19,
     "metadata": {},
     "output_type": "execute_result"
    }
   ],
   "source": [
    "from dotenv import load_dotenv\n",
    "import os\n",
    "import uuid\n",
    "load_dotenv()"
   ]
  },
  {
   "cell_type": "code",
   "execution_count": 20,
   "id": "2f048545",
   "metadata": {},
   "outputs": [],
   "source": [
    "from langgraph.graph import START, StateGraph\n",
    "from langgraph.graph import StateGraph, MessagesState, START, END\n",
    "from langchain_core.messages import SystemMessage, HumanMessage, AIMessage,ToolMessage\n",
    "from langchain_together import ChatTogether\n",
    "import json\n",
    "from langchain_google_genai import ChatGoogleGenerativeAI\n",
    "from langgraph.prebuilt import tools_condition, ToolNode"
   ]
  },
  {
   "cell_type": "code",
   "execution_count": 21,
   "id": "8ed91f7a",
   "metadata": {},
   "outputs": [],
   "source": [
    "azure_connection_string = os.getenv(\"AZURE_STORAGE_CONNECTION_STRING\")\n",
    "azure_container_name = os.getenv(\"AZURE_CONTAINER_NAME\")"
   ]
  },
  {
   "cell_type": "code",
   "execution_count": 23,
   "id": "350790a5",
   "metadata": {},
   "outputs": [],
   "source": [
    "from azure.storage.blob import BlobServiceClient\n",
    "blob_service_client = BlobServiceClient.from_connection_string(azure_connection_string)"
   ]
  },
  {
   "cell_type": "code",
   "execution_count": 24,
   "id": "34346839",
   "metadata": {},
   "outputs": [],
   "source": [
    "def upload_content(content:str, content_type:str)-> str:\n",
    "    \n",
    "    content_id = str(uuid.uuid4())\n",
    "    blob_name = f'{content_type}/{content_id}.md'\n",
    "\n",
    "\n",
    "    blob_client = blob_service_client.get_blob_client(container=azure_container_name, blob=blob_name)\n",
    "    blob_client.upload_blob(content, overwrite=True)\n",
    "    return blob_client.url"
   ]
  },
  {
   "cell_type": "code",
   "execution_count": 25,
   "id": "28dfe5df",
   "metadata": {},
   "outputs": [
    {
     "data": {
      "text/plain": [
       "'https://manim4video4serve.blob.core.windows.net/education-storage/test_content/9200d534-5a7b-41c7-bdeb-ac7fab60c5ff.md'"
      ]
     },
     "execution_count": 25,
     "metadata": {},
     "output_type": "execute_result"
    }
   ],
   "source": [
    "upload_content(\"Hello, this is a test content.\", \"test_content\")"
   ]
  },
  {
   "cell_type": "code",
   "execution_count": 26,
   "id": "47d28933",
   "metadata": {},
   "outputs": [],
   "source": [
    "from langchain_google_genai import ChatGoogleGenerativeAI\n",
    "\n",
    "agent = ChatGoogleGenerativeAI(model=\"gemini-2.5-flash-preview-04-17\", temperature=0)"
   ]
  },
  {
   "cell_type": "code",
   "execution_count": 27,
   "id": "e6af691d",
   "metadata": {},
   "outputs": [],
   "source": [
    "from langgraph.graph import StateGraph, MessagesState\n",
    "class State(MessagesState):\n",
    "    pre_class_content_generated:bool = False\n",
    "    in_class_lessons_generated:bool = False\n",
    "    post_class_quiz_content_generated:bool = False\n",
    "    pre_class_content_url:str = \"None\"\n",
    "    in_class_lessons_url:str = \"None\"\n",
    "    post_class_quiz_content_url:str = \"None\"\n",
    "    error_occured: bool = False\n",
    "    "
   ]
  },
  {
   "cell_type": "code",
   "execution_count": 28,
   "id": "dc55d14b",
   "metadata": {},
   "outputs": [],
   "source": [
    "from langchain_core.messages import SystemMessage, HumanMessage,ToolMessage\n",
    "def pre_class_generator(user_query:str)->dict:\n",
    "    \"\"\"Generate pre-class notes based on user query.\n",
    "    Args:\n",
    "        user_query (str): The user's query or topic for which pre-class notes are to be generated.\n",
    "    Returns:\n",
    "        dict: A dictionary containing the URL of the generated pre-class notes.\n",
    "    \"\"\"\n",
    "\n",
    "    sys_prompt = '''\n",
    "    You are an expert educator tasked with generating detailed pre-class notes for students based on the user's query.\n",
    "    Your notes should include:\n",
    "    - A clear and concise introduction to the topic.\n",
    "    - Key concepts and definitions that students need to understand.\n",
    "    - Relevant background information and context.\n",
    "    - Important formulas, diagrams, or frameworks (if applicable).\n",
    "    - Real-world examples or applications to illustrate the topic.\n",
    "    - A summary of what students should focus on before class.\n",
    "    - The content generated should be in markdown format for easy readability.\n",
    "    Ensure the notes are well-structured, easy to follow, and suitable for students preparing for an in-class session.\n",
    "    '''\n",
    "    response = agent.invoke([SystemMessage(content=sys_prompt),HumanMessage(content=user_query)])\n",
    "    content = response.content\n",
    "    try:\n",
    "        content_url = upload_content(content, \"pre_class_notes\")\n",
    "    except Exception as e:\n",
    "        print(f\"Error uploading content: {e}\")\n",
    "        return {\"error\": \"Failed to upload content.\"}\n",
    "    return {\n",
    "        \"pre_class_notes_url\":content_url\n",
    "    }"
   ]
  },
  {
   "cell_type": "code",
   "execution_count": 29,
   "id": "94afc6ad",
   "metadata": {},
   "outputs": [],
   "source": [
    "def in_class_generator(user_query:str)->dict:\n",
    "    \"\"\"Generate in-class lesson plan based on user query.\n",
    "    Args:\n",
    "        user_query (str): The user's query or topic for which an in-class lesson plan is to be generated.\n",
    "    Returns:\n",
    "        dict: A dictionary containing the URL of the generated in-class lesson plan.\n",
    "    \"\"\"\n",
    "\n",
    "    sys_prompt = '''\n",
    "    You are an expert educator tasked with creating a structured 1-hour lesson plan for a mentor (lecturer) who will be teaching a class of students, based on the user's query.\n",
    "    Your lesson plan should include:\n",
    "    - Learning objectives for the class.\n",
    "    - A detailed outline of the class structure, including time allocations for each section.\n",
    "    - Key concepts to be covered and how they will be taught.\n",
    "    - Examples and case studies to illustrate the concepts.\n",
    "    - Activities or discussions to engage students.\n",
    "    - Assessment methods to evaluate student understanding.\n",
    "    - The content generated should be in markdown format for easy readability.\n",
    "    Ensure the plan is comprehensive, easy to follow, and suitable for a mentor (lecturer) guiding a class session for students.\n",
    "    '''\n",
    "    response = agent.invoke([SystemMessage(content=sys_prompt),HumanMessage(content=user_query)])\n",
    "    content = response.content\n",
    "    try:\n",
    "        content_url = upload_content(content, \"in_class_lessons\")\n",
    "        return {\"in_class_lessons_url\": content_url}\n",
    "    except Exception as e:\n",
    "        print(f\"Error uploading content: {e}\")\n",
    "        return {\"error\": \"Failed to upload content.\"}"
   ]
  },
  {
   "cell_type": "code",
   "execution_count": 30,
   "id": "f62c2952",
   "metadata": {},
   "outputs": [],
   "source": [
    "def post_class_generator(user_query:str)->dict:\n",
    "    \"\"\"Generate post-class quiz and summary based on user query.\n",
    "    Args:\n",
    "        user_query (str): The user's query or topic for which post-class quiz and summary are to be generated.\n",
    "    Returns:\n",
    "        dict: A dictionary containing the quiz and summary document tailored to the user's query.\n",
    "    \"\"\"\n",
    "    sys_prompt = '''\n",
    "    You are an expert educator tasked with generating a short quiz and summary document for students based on the user's query.\n",
    "    Your output should include:\n",
    "    - A brief summary of key takeaways from the class.\n",
    "    - A set of 5-10 quiz questions that assess students' understanding of the topic.\n",
    "    - Answers and explanations for each quiz question.\n",
    "    - The content generated should be in markdown format for easy readability.\n",
    "    Ensure the content is clear, concise, and suitable for reinforcing students' learning after class.\n",
    "    '''\n",
    "    response = agent.invoke([SystemMessage(content=sys_prompt),HumanMessage(content=user_query)])\n",
    "    content = response.content\n",
    "    try:\n",
    "        content_url = upload_content(content, \"post_class_quiz\")\n",
    "        return {\"post_class_quiz_content_url\": content_url}\n",
    "    except Exception as e:\n",
    "        return {\"error\": str(e)}"
   ]
  },
  {
   "cell_type": "code",
   "execution_count": 31,
   "id": "b484ba7c",
   "metadata": {},
   "outputs": [],
   "source": [
    "tools = [pre_class_generator, in_class_generator, post_class_generator]\n",
    "agentT = agent.bind_tools(tools)"
   ]
  },
  {
   "cell_type": "code",
   "execution_count": 42,
   "id": "44c46d0b",
   "metadata": {},
   "outputs": [],
   "source": [
    "def update_state(state:State)->State:\n",
    "    \"\"\"Update the state with output from the last tool executed.\n",
    "    Args:\n",
    "        state (MessagesState): The current state of the conversation.\n",
    "    Returns:\n",
    "        state: The updated state with the latest tool output.\n",
    "    \"\"\"\n",
    "    for message in reversed(state[\"messages\"]):\n",
    "        if isinstance(message, ToolMessage):\n",
    "            try:\n",
    "                parsed_message = json.loads(message.content)\n",
    "                if \"pre_class_notes_url\" in parsed_message:\n",
    "                    state.pre_class_content_generated = True\n",
    "                    state.pre_class_content_url = parsed_message[\"pre_class_notes_url\"]\n",
    "                elif \"in_class_lessons_url\" in parsed_message:\n",
    "                    state.in_class_content_generated = True\n",
    "                    state.in_class_content_url = parsed_message[\"in_class_lessons_url\"]\n",
    "                elif \"post_class_quiz_content_url\" in parsed_message:\n",
    "                    state[\"post_class_quiz_content_generated\"] = True\n",
    "                    state.post_class_quiz_content_url = parsed_message[\"post_class_quiz_content_url\"]\n",
    "                elif \"error\" in parsed_message:\n",
    "                    state.error_occured = True\n",
    "                    state.error_message = parsed_message[\"error\"]\n",
    "                break\n",
    "            except json.JSONDecodeError as e:\n",
    "                try:\n",
    "                    import ast\n",
    "                    parsed_message = ast.literal_eval(message.content)\n",
    "                    if \"pre_class_notes_url\" in parsed_message:\n",
    "                        state.pre_class_content_generated = True\n",
    "                        state.pre_class_content_url = parsed_message[\"pre_class_notes_url\"]\n",
    "                    elif \"in_class_lessons_url\" in parsed_message:\n",
    "                        state.in_class_content_generated = True\n",
    "                        state.in_class_content_url = parsed_message[\"in_class_lessons_url\"]\n",
    "                    elif \"post_class_quiz_content_url\" in parsed_message:\n",
    "                        state[\"post_class_quiz_content_generated\"] = True\n",
    "                        state.post_class_quiz_content_url = parsed_message[\"post_class_quiz_content_url\"]\n",
    "                    elif \"error\" in parsed_message:\n",
    "                        state.error_occured = True\n",
    "                        state.error_message = parsed_message[\"error\"]\n",
    "                    break\n",
    "                except Exception as e:\n",
    "                    state.error_occured = True\n",
    "                    state.error_message = f\"Error parsing tool message content: {str(e)}\"\n",
    "                    break\n",
    "    return state\n"
   ]
  },
  {
   "cell_type": "code",
   "execution_count": 43,
   "id": "de4c3d09",
   "metadata": {},
   "outputs": [],
   "source": [
    "def agent_node(state:State):\n",
    "    '''Main orchestrator node of the graph'''\n",
    "\n",
    "    if state.get(\"error_occured\", False):\n",
    "        return {\n",
    "            \"messages\": [\n",
    "                AIMessage(content=f\"An error occurred: Please try again.\")\n",
    "            ]\n",
    "        }\n",
    "\n",
    "    state_summary = []\n",
    "    if state.get(\"pre_class_content_generated\", False):\n",
    "        state_summary.append(f\"PRE class notes generated successfully, URL is: {state.pre_class_content_url}\")\n",
    "    if state.get(\"in_class_content_generated\", False):\n",
    "        state_summary.append(f\"IN class lesson plan generated successfully, URL is: {state.in_class_content_url}\")\n",
    "    if state.get(\"post_class_quiz_content_generated\", False):\n",
    "        state_summary.append(f\"POST class quiz generated successfully, URL is: {state.post_class_quiz_content_url}\")\n",
    "\n",
    "\n",
    "\n",
    "    sys_msg = '''\n",
    "    You are a specialized router agent within an educational content generation system. Your sole function is to analyze a user's request, determine the most appropriate tool for the task, and format the output for system execution. You do not generate content or answer questions yourself.\n",
    "\n",
    "    ROLE: Intent-Based Tool Router\n",
    "\n",
    "    OBJECTIVE: Parse the user's request, select one of the available tools, and extract the required parameters. If the request is invalid or cannot be handled by any tool, you must reject it.\n",
    "\n",
    "    IMPORTANT: For every educational content request, you must determine the intended level of the content: \"introductory/beginner\", \"intermediate\", or \"advanced\". \n",
    "    - If the user query specifies the level, extract and use it.\n",
    "    - If the user query does NOT specify the level, ask the user to clarify the desired level before proceeding.\n",
    "\n",
    "    When invoking any tool, always pass both the topic and the level as parameters.\n",
    "\n",
    "    AVAILABLE TOOLS:\n",
    "\n",
    "    pre_class_generator\n",
    "\n",
    "    Purpose: Creates a 1-2 page preparatory document for students.\n",
    "\n",
    "    Triggers: User asks for pre-class notes, background material, an overview, key concepts to study beforehand, or a \"cheat sheet\".\n",
    "\n",
    "    Required Parameters: \n",
    "      - topic (string)\n",
    "\n",
    "    in_class_generator\n",
    "\n",
    "    Purpose: Creates a structured 1-hour lesson plan for a mentor.\n",
    "\n",
    "    Triggers: User asks for a lesson plan, a teaching script, lecture notes, class structure, examples to use in class, or a mentor's guide.\n",
    "\n",
    "    Required Parameters: \n",
    "      - topic (string)\n",
    "\n",
    "    post_class_generator\n",
    "\n",
    "    Purpose: Creates a short quiz and summary document for students.\n",
    "\n",
    "    Triggers: User asks for a quiz, assessment, practice questions, a summary of key takeaways, or reinforcement material.\n",
    "\n",
    "    Required Parameters: \n",
    "      - topic (string)\n",
    "\n",
    "    TOOL OUTPUTS:\n",
    "    \n",
    "    Each tool will return a URL of the uploaded content if everything works well. The agent must share each URL with the user, clearly indicating which URL corresponds to which content (pre-class notes, in-class lesson plan, or post-class quiz/summary).\n",
    "    Share the URLs in a structured format.\n",
    "\n",
    "    When user passes a relevant query, you need to generate all three content materials: pre-class notes, in-class notes, and post-class assessments using the relevant tools, and always specify the level.\n",
    "\n",
    "    Don't answer any irrelevant query.\n",
    "    Don't answer any query about the metadata of the system.\n",
    "    '''\n",
    "    if state_summary:\n",
    "        state_context = SystemMessage(content=f\"Current State : {' , '.join(state_summary)}\")\n",
    "        return {\"messages\": [agentT.invoke([SystemMessage(content=sys_msg),state_context] +[message for message in state[\"messages\"] if not isinstance(message,SystemMessage)])]}\n",
    "       \n",
    "\n",
    "    return {\n",
    "        \"messages\":[agentT.invoke([SystemMessage(content=sys_msg)]+ [message for message in state[\"messages\"] if not isinstance(message,SystemMessage)])]\n",
    "    }"
   ]
  },
  {
   "cell_type": "code",
   "execution_count": 44,
   "id": "a57dea3f",
   "metadata": {},
   "outputs": [],
   "source": [
    "from langgraph.graph import START, StateGraph\n",
    "from langgraph.graph import StateGraph, MessagesState, START, END"
   ]
  },
  {
   "cell_type": "code",
   "execution_count": 45,
   "id": "777fe457",
   "metadata": {},
   "outputs": [],
   "source": [
    "workflow = StateGraph(State)\n",
    "from langgraph.prebuilt import tools_condition, ToolNode\n",
    "\n",
    "\n",
    "workflow.add_node(\"agent\",agent_node)\n",
    "workflow.add_node(\"tools\",ToolNode(tools))\n",
    "workflow.add_node(\"update_state\", update_state)\n",
    "\n",
    "workflow.add_edge(START, \"agent\")\n",
    "workflow.add_conditional_edges(\"agent\", tools_condition)\n",
    "workflow.add_edge(\"tools\", \"update_state\")\n",
    "workflow.add_edge(\"update_state\", \"agent\")\n",
    "\n",
    "graph = workflow.compile()\n"
   ]
  },
  {
   "cell_type": "code",
   "execution_count": 46,
   "id": "50622f68",
   "metadata": {},
   "outputs": [
    {
     "ename": "AttributeError",
     "evalue": "'dict' object has no attribute 'post_class_quiz_content_url'",
     "output_type": "error",
     "traceback": [
      "\u001b[31m---------------------------------------------------------------------------\u001b[39m",
      "\u001b[31mAttributeError\u001b[39m                            Traceback (most recent call last)",
      "\u001b[36mCell\u001b[39m\u001b[36m \u001b[39m\u001b[32mIn[46]\u001b[39m\u001b[32m, line 1\u001b[39m\n\u001b[32m----> \u001b[39m\u001b[32m1\u001b[39m response = \u001b[43mgraph\u001b[49m\u001b[43m.\u001b[49m\u001b[43minvoke\u001b[49m\u001b[43m(\u001b[49m\u001b[43m{\u001b[49m\u001b[33;43m\"\u001b[39;49m\u001b[33;43mmessages\u001b[39;49m\u001b[33;43m\"\u001b[39;49m\u001b[43m:\u001b[49m\u001b[33;43m\"\u001b[39;49m\u001b[33;43mDatabases for beginners\u001b[39;49m\u001b[33;43m\"\u001b[39;49m\u001b[43m}\u001b[49m\u001b[43m)\u001b[49m\n\u001b[32m      2\u001b[39m \u001b[38;5;28;01mfor\u001b[39;00m message \u001b[38;5;129;01min\u001b[39;00m response[\u001b[33m\"\u001b[39m\u001b[33mmessages\u001b[39m\u001b[33m\"\u001b[39m]:\n\u001b[32m      3\u001b[39m     message.pretty_print()\n",
      "\u001b[36mFile \u001b[39m\u001b[32m~/Documents/gitRepositories/cantilever-backend/.venv/lib/python3.12/site-packages/langgraph/pregel/__init__.py:2719\u001b[39m, in \u001b[36mPregel.invoke\u001b[39m\u001b[34m(self, input, config, stream_mode, output_keys, interrupt_before, interrupt_after, checkpoint_during, debug, **kwargs)\u001b[39m\n\u001b[32m   2716\u001b[39m chunks: \u001b[38;5;28mlist\u001b[39m[Union[\u001b[38;5;28mdict\u001b[39m[\u001b[38;5;28mstr\u001b[39m, Any], Any]] = []\n\u001b[32m   2717\u001b[39m interrupts: \u001b[38;5;28mlist\u001b[39m[Interrupt] = []\n\u001b[32m-> \u001b[39m\u001b[32m2719\u001b[39m \u001b[43m\u001b[49m\u001b[38;5;28;43;01mfor\u001b[39;49;00m\u001b[43m \u001b[49m\u001b[43mchunk\u001b[49m\u001b[43m \u001b[49m\u001b[38;5;129;43;01min\u001b[39;49;00m\u001b[43m \u001b[49m\u001b[38;5;28;43mself\u001b[39;49m\u001b[43m.\u001b[49m\u001b[43mstream\u001b[49m\u001b[43m(\u001b[49m\n\u001b[32m   2720\u001b[39m \u001b[43m    \u001b[49m\u001b[38;5;28;43minput\u001b[39;49m\u001b[43m,\u001b[49m\n\u001b[32m   2721\u001b[39m \u001b[43m    \u001b[49m\u001b[43mconfig\u001b[49m\u001b[43m,\u001b[49m\n\u001b[32m   2722\u001b[39m \u001b[43m    \u001b[49m\u001b[43mstream_mode\u001b[49m\u001b[43m=\u001b[49m\u001b[43mstream_mode\u001b[49m\u001b[43m,\u001b[49m\n\u001b[32m   2723\u001b[39m \u001b[43m    \u001b[49m\u001b[43moutput_keys\u001b[49m\u001b[43m=\u001b[49m\u001b[43moutput_keys\u001b[49m\u001b[43m,\u001b[49m\n\u001b[32m   2724\u001b[39m \u001b[43m    \u001b[49m\u001b[43minterrupt_before\u001b[49m\u001b[43m=\u001b[49m\u001b[43minterrupt_before\u001b[49m\u001b[43m,\u001b[49m\n\u001b[32m   2725\u001b[39m \u001b[43m    \u001b[49m\u001b[43minterrupt_after\u001b[49m\u001b[43m=\u001b[49m\u001b[43minterrupt_after\u001b[49m\u001b[43m,\u001b[49m\n\u001b[32m   2726\u001b[39m \u001b[43m    \u001b[49m\u001b[43mcheckpoint_during\u001b[49m\u001b[43m=\u001b[49m\u001b[43mcheckpoint_during\u001b[49m\u001b[43m,\u001b[49m\n\u001b[32m   2727\u001b[39m \u001b[43m    \u001b[49m\u001b[43mdebug\u001b[49m\u001b[43m=\u001b[49m\u001b[43mdebug\u001b[49m\u001b[43m,\u001b[49m\n\u001b[32m   2728\u001b[39m \u001b[43m    \u001b[49m\u001b[43m*\u001b[49m\u001b[43m*\u001b[49m\u001b[43mkwargs\u001b[49m\u001b[43m,\u001b[49m\n\u001b[32m   2729\u001b[39m \u001b[43m\u001b[49m\u001b[43m)\u001b[49m\u001b[43m:\u001b[49m\n\u001b[32m   2730\u001b[39m \u001b[43m    \u001b[49m\u001b[38;5;28;43;01mif\u001b[39;49;00m\u001b[43m \u001b[49m\u001b[43mstream_mode\u001b[49m\u001b[43m \u001b[49m\u001b[43m==\u001b[49m\u001b[43m \u001b[49m\u001b[33;43m\"\u001b[39;49m\u001b[33;43mvalues\u001b[39;49m\u001b[33;43m\"\u001b[39;49m\u001b[43m:\u001b[49m\n\u001b[32m   2731\u001b[39m \u001b[43m        \u001b[49m\u001b[38;5;28;43;01mif\u001b[39;49;00m\u001b[43m \u001b[49m\u001b[43m(\u001b[49m\n\u001b[32m   2732\u001b[39m \u001b[43m            \u001b[49m\u001b[38;5;28;43misinstance\u001b[39;49m\u001b[43m(\u001b[49m\u001b[43mchunk\u001b[49m\u001b[43m,\u001b[49m\u001b[43m \u001b[49m\u001b[38;5;28;43mdict\u001b[39;49m\u001b[43m)\u001b[49m\n\u001b[32m   2733\u001b[39m \u001b[43m            \u001b[49m\u001b[38;5;129;43;01mand\u001b[39;49;00m\u001b[43m \u001b[49m\u001b[43m(\u001b[49m\u001b[43mints\u001b[49m\u001b[43m \u001b[49m\u001b[43m:=\u001b[49m\u001b[43m \u001b[49m\u001b[43mchunk\u001b[49m\u001b[43m.\u001b[49m\u001b[43mget\u001b[49m\u001b[43m(\u001b[49m\u001b[43mINTERRUPT\u001b[49m\u001b[43m)\u001b[49m\u001b[43m)\u001b[49m\u001b[43m \u001b[49m\u001b[38;5;129;43;01mis\u001b[39;49;00m\u001b[43m \u001b[49m\u001b[38;5;129;43;01mnot\u001b[39;49;00m\u001b[43m \u001b[49m\u001b[38;5;28;43;01mNone\u001b[39;49;00m\n\u001b[32m   2734\u001b[39m \u001b[43m        \u001b[49m\u001b[43m)\u001b[49m\u001b[43m:\u001b[49m\n",
      "\u001b[36mFile \u001b[39m\u001b[32m~/Documents/gitRepositories/cantilever-backend/.venv/lib/python3.12/site-packages/langgraph/pregel/__init__.py:2436\u001b[39m, in \u001b[36mPregel.stream\u001b[39m\u001b[34m(self, input, config, stream_mode, output_keys, interrupt_before, interrupt_after, checkpoint_during, debug, subgraphs)\u001b[39m\n\u001b[32m   2434\u001b[39m         \u001b[38;5;28;01mfor\u001b[39;00m task \u001b[38;5;129;01min\u001b[39;00m loop.match_cached_writes():\n\u001b[32m   2435\u001b[39m             loop.output_writes(task.id, task.writes, cached=\u001b[38;5;28;01mTrue\u001b[39;00m)\n\u001b[32m-> \u001b[39m\u001b[32m2436\u001b[39m \u001b[43m        \u001b[49m\u001b[38;5;28;43;01mfor\u001b[39;49;00m\u001b[43m \u001b[49m\u001b[43m_\u001b[49m\u001b[43m \u001b[49m\u001b[38;5;129;43;01min\u001b[39;49;00m\u001b[43m \u001b[49m\u001b[43mrunner\u001b[49m\u001b[43m.\u001b[49m\u001b[43mtick\u001b[49m\u001b[43m(\u001b[49m\n\u001b[32m   2437\u001b[39m \u001b[43m            \u001b[49m\u001b[43m[\u001b[49m\u001b[43mt\u001b[49m\u001b[43m \u001b[49m\u001b[38;5;28;43;01mfor\u001b[39;49;00m\u001b[43m \u001b[49m\u001b[43mt\u001b[49m\u001b[43m \u001b[49m\u001b[38;5;129;43;01min\u001b[39;49;00m\u001b[43m \u001b[49m\u001b[43mloop\u001b[49m\u001b[43m.\u001b[49m\u001b[43mtasks\u001b[49m\u001b[43m.\u001b[49m\u001b[43mvalues\u001b[49m\u001b[43m(\u001b[49m\u001b[43m)\u001b[49m\u001b[43m \u001b[49m\u001b[38;5;28;43;01mif\u001b[39;49;00m\u001b[43m \u001b[49m\u001b[38;5;129;43;01mnot\u001b[39;49;00m\u001b[43m \u001b[49m\u001b[43mt\u001b[49m\u001b[43m.\u001b[49m\u001b[43mwrites\u001b[49m\u001b[43m]\u001b[49m\u001b[43m,\u001b[49m\n\u001b[32m   2438\u001b[39m \u001b[43m            \u001b[49m\u001b[43mtimeout\u001b[49m\u001b[43m=\u001b[49m\u001b[38;5;28;43mself\u001b[39;49m\u001b[43m.\u001b[49m\u001b[43mstep_timeout\u001b[49m\u001b[43m,\u001b[49m\n\u001b[32m   2439\u001b[39m \u001b[43m            \u001b[49m\u001b[43mget_waiter\u001b[49m\u001b[43m=\u001b[49m\u001b[43mget_waiter\u001b[49m\u001b[43m,\u001b[49m\n\u001b[32m   2440\u001b[39m \u001b[43m            \u001b[49m\u001b[43mschedule_task\u001b[49m\u001b[43m=\u001b[49m\u001b[43mloop\u001b[49m\u001b[43m.\u001b[49m\u001b[43maccept_push\u001b[49m\u001b[43m,\u001b[49m\n\u001b[32m   2441\u001b[39m \u001b[43m        \u001b[49m\u001b[43m)\u001b[49m\u001b[43m:\u001b[49m\n\u001b[32m   2442\u001b[39m \u001b[43m            \u001b[49m\u001b[38;5;66;43;03m# emit output\u001b[39;49;00m\n\u001b[32m   2443\u001b[39m \u001b[43m            \u001b[49m\u001b[38;5;28;43;01myield from\u001b[39;49;00m\u001b[43m \u001b[49m\u001b[43moutput\u001b[49m\u001b[43m(\u001b[49m\u001b[43m)\u001b[49m\n\u001b[32m   2444\u001b[39m \u001b[38;5;66;03m# emit output\u001b[39;00m\n",
      "\u001b[36mCell\u001b[39m\u001b[36m \u001b[39m\u001b[32mIn[42]\u001b[39m\u001b[32m, line 20\u001b[39m, in \u001b[36mupdate_state\u001b[39m\u001b[34m(state)\u001b[39m\n\u001b[32m     18\u001b[39m \u001b[38;5;28;01melif\u001b[39;00m \u001b[33m\"\u001b[39m\u001b[33mpost_class_quiz_content_url\u001b[39m\u001b[33m\"\u001b[39m \u001b[38;5;129;01min\u001b[39;00m parsed_message:\n\u001b[32m     19\u001b[39m     state[\u001b[33m\"\u001b[39m\u001b[33mpost_class_quiz_content_generated\u001b[39m\u001b[33m\"\u001b[39m] = \u001b[38;5;28;01mTrue\u001b[39;00m\n\u001b[32m---> \u001b[39m\u001b[32m20\u001b[39m     \u001b[43mstate\u001b[49m\u001b[43m.\u001b[49m\u001b[43mpost_class_quiz_content_url\u001b[49m = parsed_message[\u001b[33m\"\u001b[39m\u001b[33mpost_class_quiz_content_url\u001b[39m\u001b[33m\"\u001b[39m]\n\u001b[32m     21\u001b[39m \u001b[38;5;28;01melif\u001b[39;00m \u001b[33m\"\u001b[39m\u001b[33merror\u001b[39m\u001b[33m\"\u001b[39m \u001b[38;5;129;01min\u001b[39;00m parsed_message:\n\u001b[32m     22\u001b[39m     state.error_occured = \u001b[38;5;28;01mTrue\u001b[39;00m\n",
      "\u001b[31mAttributeError\u001b[39m: 'dict' object has no attribute 'post_class_quiz_content_url'",
      "During task with name 'update_state' and id '6de48b55-8541-07a4-47a2-09c5948027fc'"
     ]
    }
   ],
   "source": [
    "response = graph.invoke({\"messages\":\"Databases for beginners\"})\n",
    "for message in response[\"messages\"]:\n",
    "    message.pretty_print()"
   ]
  },
  {
   "cell_type": "code",
   "execution_count": null,
   "id": "20f770ac",
   "metadata": {},
   "outputs": [],
   "source": []
  },
  {
   "cell_type": "code",
   "execution_count": null,
   "id": "f363e50c",
   "metadata": {},
   "outputs": [],
   "source": []
  }
 ],
 "metadata": {
  "kernelspec": {
   "display_name": ".venv",
   "language": "python",
   "name": "python3"
  },
  "language_info": {
   "codemirror_mode": {
    "name": "ipython",
    "version": 3
   },
   "file_extension": ".py",
   "mimetype": "text/x-python",
   "name": "python",
   "nbconvert_exporter": "python",
   "pygments_lexer": "ipython3",
   "version": "3.12.3"
  }
 },
 "nbformat": 4,
 "nbformat_minor": 5
}
